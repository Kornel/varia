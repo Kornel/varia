{
 "cells": [
  {
   "cell_type": "code",
   "execution_count": 78,
   "metadata": {
    "collapsed": true
   },
   "outputs": [],
   "source": [
    "import numpy as np\n",
    "import pandas as pd\n",
    "from sklearn.linear_model import Ridge\n",
    "from sklearn.grid_search import GridSearchCV\n",
    "from sklearn.cross_validation import train_test_split\n",
    "from sklearn.metrics import mean_squared_error"
   ]
  },
  {
   "cell_type": "code",
   "execution_count": 84,
   "metadata": {
    "collapsed": false
   },
   "outputs": [],
   "source": [
    "def generate_test_data(N, p):\n",
    "    features = pd.DataFrame(np.random.randn(N, p))\n",
    "\n",
    "    b = np.random.normal(size = p)\n",
    "\n",
    "    Y = features.apply(lambda row: sum(row * b), axis = 1)\n",
    "\n",
    "    features['Y'] = Y\n",
    "\n",
    "    return features"
   ]
  },
  {
   "cell_type": "code",
   "execution_count": 120,
   "metadata": {
    "collapsed": false
   },
   "outputs": [
    {
     "name": "stdout",
     "output_type": "stream",
     "text": [
      "for N = 100, p = 20, alpha = 0.001 and mse = 3.42443841933e-08\n",
      "for N = 100, p = 100, alpha = 0.001 and mse = 21.0564402557\n",
      "for N = 100, p = 1000, alpha = 1000 and mse = 1152.55798073\n"
     ]
    }
   ],
   "source": [
    "for p in [20, 100, 1000]:\n",
    "    N = 100\n",
    "    data = generate_test_data(N, p)\n",
    "\n",
    "    train, test = train_test_split(data, train_size = 0.7)\n",
    "\n",
    "#     params = {'alpha': np.logspace(-10, 10, 50)}\n",
    "    params = {'alpha': [0.001, 100, 1000]}\n",
    "    model = Ridge()\n",
    "    estimator = GridSearchCV(model, params)\n",
    "\n",
    "    estimator.fit(train.drop('Y', axis = 1), train['Y']) \n",
    "    \n",
    "    y_pred = estimator.predict(test.drop('Y', axis = 1))\n",
    "    y_true = test['Y']\n",
    "\n",
    "    print \"for N = {}, p = {}, alpha = {} and mse = {}\".format(N, \n",
    "                                                               p, \n",
    "                                                               estimator.best_params_['alpha'], \n",
    "                                                               mean_squared_error(y_true, y_pred))\n"
   ]
  },
  {
   "cell_type": "code",
   "execution_count": null,
   "metadata": {
    "collapsed": true
   },
   "outputs": [],
   "source": []
  },
  {
   "cell_type": "code",
   "execution_count": null,
   "metadata": {
    "collapsed": true
   },
   "outputs": [],
   "source": []
  },
  {
   "cell_type": "code",
   "execution_count": null,
   "metadata": {
    "collapsed": true
   },
   "outputs": [],
   "source": []
  },
  {
   "cell_type": "code",
   "execution_count": null,
   "metadata": {
    "collapsed": true
   },
   "outputs": [],
   "source": []
  },
  {
   "cell_type": "code",
   "execution_count": null,
   "metadata": {
    "collapsed": true
   },
   "outputs": [],
   "source": []
  },
  {
   "cell_type": "code",
   "execution_count": null,
   "metadata": {
    "collapsed": true
   },
   "outputs": [],
   "source": []
  },
  {
   "cell_type": "code",
   "execution_count": null,
   "metadata": {
    "collapsed": true
   },
   "outputs": [],
   "source": []
  },
  {
   "cell_type": "code",
   "execution_count": null,
   "metadata": {
    "collapsed": true
   },
   "outputs": [],
   "source": []
  },
  {
   "cell_type": "code",
   "execution_count": null,
   "metadata": {
    "collapsed": true
   },
   "outputs": [],
   "source": []
  }
 ],
 "metadata": {
  "kernelspec": {
   "display_name": "Python 2",
   "language": "python",
   "name": "python2"
  },
  "language_info": {
   "codemirror_mode": {
    "name": "ipython",
    "version": 2
   },
   "file_extension": ".py",
   "mimetype": "text/x-python",
   "name": "python",
   "nbconvert_exporter": "python",
   "pygments_lexer": "ipython2",
   "version": "2.7.10"
  }
 },
 "nbformat": 4,
 "nbformat_minor": 0
}
