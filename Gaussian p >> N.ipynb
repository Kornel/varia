{
 "cells": [
  {
   "cell_type": "code",
   "execution_count": 17,
   "metadata": {
    "collapsed": true
   },
   "outputs": [],
   "source": [
    "import numpy as np\n",
    "import pandas as pd"
   ]
  },
  {
   "cell_type": "code",
   "execution_count": 45,
   "metadata": {
    "collapsed": false
   },
   "outputs": [
    {
     "name": "stdout",
     "output_type": "stream",
     "text": [
      "[-0.61601397  0.94300863]\n",
      "          0         1         Y\n",
      "0 -0.124922  1.089229  1.104107\n",
      "1 -2.783634 -0.353865  1.381059\n",
      "2  1.065299  0.451804 -0.230185\n",
      "3 -0.434774 -0.145533  0.130588\n",
      "4  1.047766 -0.310704 -0.938435\n",
      "5  0.391367 -1.043613 -1.225224\n",
      "6  0.383880  0.802936  0.520700\n",
      "7  0.565641 -0.699623 -1.008193\n",
      "8  0.202600 -1.411970 -1.456304\n",
      "9  0.599653  0.156858 -0.221476\n"
     ]
    }
   ],
   "source": [
    "N = 10\n",
    "p = 2\n",
    "\n",
    "features = pd.DataFrame(np.random.randn(N, p))\n",
    "\n",
    "b = np.random.normal(size = p)\n",
    "\n",
    "Y = features.apply(lambda row: sum(row * b), axis = 1)\n",
    "\n",
    "features['Y'] = Y\n"
   ]
  },
  {
   "cell_type": "code",
   "execution_count": null,
   "metadata": {
    "collapsed": false
   },
   "outputs": [],
   "source": []
  }
 ],
 "metadata": {
  "kernelspec": {
   "display_name": "Python 2",
   "language": "python",
   "name": "python2"
  },
  "language_info": {
   "codemirror_mode": {
    "name": "ipython",
    "version": 2
   },
   "file_extension": ".py",
   "mimetype": "text/x-python",
   "name": "python",
   "nbconvert_exporter": "python",
   "pygments_lexer": "ipython2",
   "version": "2.7.10"
  }
 },
 "nbformat": 4,
 "nbformat_minor": 0
}
