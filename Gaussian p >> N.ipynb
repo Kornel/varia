{
 "cells": [
  {
   "cell_type": "code",
   "execution_count": 1,
   "metadata": {
    "collapsed": false
   },
   "outputs": [],
   "source": [
    "%matplotlib inline\n",
    "import numpy as np\n",
    "import pandas as pd\n",
    "from sklearn.linear_model import Ridge\n",
    "from sklearn.grid_search import GridSearchCV\n",
    "from sklearn.cross_validation import train_test_split\n",
    "from sklearn.metrics import mean_squared_error\n",
    "import matplotlib.pyplot as plt"
   ]
  },
  {
   "cell_type": "code",
   "execution_count": 2,
   "metadata": {
    "collapsed": false
   },
   "outputs": [],
   "source": [
    "def generate_test_data(N, p):\n",
    "    features = pd.DataFrame([np.random.randn(p) for x in range(N)])\n",
    "\n",
    "    b = np.random.normal(size = p)\n",
    "\n",
    "    e = np.random.randn() \n",
    "    Y = features.apply(lambda row: sum(row * b) + e, axis = 1)\n",
    "\n",
    "    features['Y'] = Y\n",
    "\n",
    "    return (b, features)"
   ]
  },
  {
   "cell_type": "code",
   "execution_count": 23,
   "metadata": {
    "collapsed": true
   },
   "outputs": [],
   "source": [
    "def compare_p_n():\n",
    "    for p in [20, 100, 1000]:\n",
    "        for l in [0.0001, 0.01, 10, 100, 1000]:\n",
    "            N = 100\n",
    "\n",
    "            mse = 0\n",
    "            X = 100\n",
    "            coeff_error = 0\n",
    "            \n",
    "            for x in range(X):\n",
    "                b, data = generate_test_data(N, p)\n",
    "\n",
    "                train, test = train_test_split(data, train_size = 0.7)\n",
    "\n",
    "                #params = {'alpha': np.logspace(-10, 10, 50)}\n",
    "                #params = {'alpha': [0.001, 100, 1000]}\n",
    "                model = Ridge()\n",
    "                #estimator = GridSearchCV(model, params)\n",
    "                estimator = Ridge(alpha = l)\n",
    "                estimator.fit(train.drop('Y', axis = 1), train['Y']) \n",
    "                                \n",
    "                y_pred = estimator.predict(test.drop('Y', axis = 1))\n",
    "                y_true = test['Y']\n",
    "                \n",
    "                coeff_error += mean_squared_error(b, estimator.coef_)\n",
    "                \n",
    "                mse += mean_squared_error(y_true, y_pred)\n",
    "            print \"for N = {}, p = {}, alpha = {}, mean mse = {}, ce = {}\".format(N, p, l, mse / X, coeff_error / X)\n",
    "                \n",
    "                #print \"for N = {}, p = {}, alpha = {} and mse = {}\".format(N, \n",
    "                #                                                           p, \n",
    "                #                                                           l, #estimator.best_params_['alpha'], \n",
    "                #                                                           mean_squared_error(y_true, y_pred))\n",
    "\n",
    "\n",
    "\n"
   ]
  },
  {
   "cell_type": "code",
   "execution_count": 24,
   "metadata": {
    "collapsed": false
   },
   "outputs": [
    {
     "name": "stdout",
     "output_type": "stream",
     "text": [
      "for N = 100, p = 20, alpha = 0.0001, mean mse = 1.42226720669e-10, ce = 6.9243622229e-12\n",
      "for N = 100, p = 20, alpha = 0.01, mean mse = 1.32620702347e-06, ce = 6.33160628738e-08\n",
      "for N = 100, p = 20, alpha = 10, mean mse = 0.639671871304, ce = 0.0328951666518\n",
      "for N = 100, p = 20, alpha = 100, mean mse = 8.1270047142, ce = 0.39723064091\n",
      "for N = 100, p = 20, alpha = 1000, mean mse = 17.3740591588, ce = 0.885904032807\n",
      "for N = 100, p = 100, alpha = 0.0001, mean mse = 33.4441968838, ce = 0.315472806784\n",
      "for N = 100, p = 100, alpha = 0.01, mean mse = 31.768745956, ce = 0.305049476909\n",
      "for N = 100, p = 100, alpha = 10, mean mse = 36.3359518968, ce = 0.353743286317\n",
      "for N = 100, p = 100, alpha = 100, mean mse = 61.2073115938, ce = 0.587860311201\n",
      "for N = 100, p = 100, alpha = 1000, mean mse = 90.9156984873, ce = 0.884865211404\n",
      "for N = 100, p = 1000, alpha = 0.0001, mean mse = 947.727351903, ce = 0.938028958037\n",
      "for N = 100, p = 1000, alpha = 0.01, mean mse = 931.557127732, ce = 0.927202519483\n",
      "for N = 100, p = 1000, alpha = 10, mean mse = 944.409390741, ce = 0.925993137084\n",
      "for N = 100, p = 1000, alpha = 100, mean mse = 960.829970408, ce = 0.93227725095\n",
      "for N = 100, p = 1000, alpha = 1000, mean mse = 978.970498309, ce = 0.946789103815\n"
     ]
    }
   ],
   "source": [
    "#for x in range(20):\n",
    "compare_p_n()"
   ]
  },
  {
   "cell_type": "code",
   "execution_count": 224,
   "metadata": {
    "collapsed": false
   },
   "outputs": [
    {
     "data": {
      "image/png": "[encoded data removed]",
      "text/plain": [
       "<matplotlib.figure.Figure at 0x10e30a590>"
      ]
     },
     "metadata": {},
     "output_type": "display_data"
    }
   ],
   "source": [
    "data = generate_test_data(100, 20)\n",
    "\n",
    "plt.rcParams[\"figure.figsize\"] = [15, 15]\n",
    "fig, ax = plt.subplots()\n",
    "heatmap = ax.pcolor(data, cmap=plt.cm.Blues)\n",
    "ax.invert_yaxis()\n",
    "ax.xaxis.tick_top()\n",
    "\n",
    "plt.xlim(0, 21)\n",
    "\n",
    "plt.show()\n"
   ]
  },
  {
   "cell_type": "code",
   "execution_count": 22,
   "metadata": {
    "collapsed": false
   },
   "outputs": [
    {
     "data": {
      "text/plain": [
       "array([  1.00000000e-10,   1.09698580e-10,   1.20337784e-10,\n",
       "         1.32008840e-10,   1.44811823e-10,   1.58856513e-10,\n",
       "         1.74263339e-10,   1.91164408e-10,   2.09704640e-10,\n",
       "         2.30043012e-10,   2.52353917e-10,   2.76828663e-10,\n",
       "         3.03677112e-10,   3.33129479e-10,   3.65438307e-10,\n",
       "         4.00880633e-10,   4.39760361e-10,   4.82410870e-10,\n",
       "         5.29197874e-10,   5.80522552e-10,   6.36824994e-10,\n",
       "         6.98587975e-10,   7.66341087e-10,   8.40665289e-10,\n",
       "         9.22197882e-10,   1.01163798e-09,   1.10975250e-09,\n",
       "         1.21738273e-09,   1.33545156e-09,   1.46497140e-09,\n",
       "         1.60705282e-09,   1.76291412e-09,   1.93389175e-09,\n",
       "         2.12145178e-09,   2.32720248e-09,   2.55290807e-09,\n",
       "         2.80050389e-09,   3.07211300e-09,   3.37006433e-09,\n",
       "         3.69691271e-09,   4.05546074e-09,   4.44878283e-09,\n",
       "         4.88025158e-09,   5.35356668e-09,   5.87278661e-09,\n",
       "         6.44236351e-09,   7.06718127e-09,   7.75259749e-09,\n",
       "         8.50448934e-09,   9.32930403e-09,   1.02341140e-08,\n",
       "         1.12266777e-08,   1.23155060e-08,   1.35099352e-08,\n",
       "         1.48202071e-08,   1.62575567e-08,   1.78343088e-08,\n",
       "         1.95639834e-08,   2.14614120e-08,   2.35428641e-08,\n",
       "         2.58261876e-08,   2.83309610e-08,   3.10786619e-08,\n",
       "         3.40928507e-08,   3.73993730e-08,   4.10265811e-08,\n",
       "         4.50055768e-08,   4.93704785e-08,   5.41587138e-08,\n",
       "         5.94113398e-08,   6.51733960e-08,   7.14942899e-08,\n",
       "         7.84282206e-08,   8.60346442e-08,   9.43787828e-08,\n",
       "         1.03532184e-07,   1.13573336e-07,   1.24588336e-07,\n",
       "         1.36671636e-07,   1.49926843e-07,   1.64467618e-07,\n",
       "         1.80418641e-07,   1.97916687e-07,   2.17111795e-07,\n",
       "         2.38168555e-07,   2.61267523e-07,   2.86606762e-07,\n",
       "         3.14403547e-07,   3.44896226e-07,   3.78346262e-07,\n",
       "         4.15040476e-07,   4.55293507e-07,   4.99450512e-07,\n",
       "         5.47890118e-07,   6.01027678e-07,   6.59318827e-07,\n",
       "         7.23263390e-07,   7.93409667e-07,   8.70359136e-07,\n",
       "         9.54771611e-07,   1.04737090e-06,   1.14895100e-06,\n",
       "         1.26038293e-06,   1.38262217e-06,   1.51671689e-06,\n",
       "         1.66381689e-06,   1.82518349e-06,   2.00220037e-06,\n",
       "         2.19638537e-06,   2.40940356e-06,   2.64308149e-06,\n",
       "         2.89942285e-06,   3.18062569e-06,   3.48910121e-06,\n",
       "         3.82749448e-06,   4.19870708e-06,   4.60592204e-06,\n",
       "         5.05263107e-06,   5.54266452e-06,   6.08022426e-06,\n",
       "         6.66991966e-06,   7.31680714e-06,   8.02643352e-06,\n",
       "         8.80488358e-06,   9.65883224e-06,   1.05956018e-05,\n",
       "         1.16232247e-05,   1.27505124e-05,   1.39871310e-05,\n",
       "         1.53436841e-05,   1.68318035e-05,   1.84642494e-05,\n",
       "         2.02550194e-05,   2.22194686e-05,   2.43744415e-05,\n",
       "         2.67384162e-05,   2.93316628e-05,   3.21764175e-05,\n",
       "         3.52970730e-05,   3.87203878e-05,   4.24757155e-05,\n",
       "         4.65952567e-05,   5.11143348e-05,   5.60716994e-05,\n",
       "         6.15098579e-05,   6.74754405e-05,   7.40196000e-05,\n",
       "         8.11984499e-05,   8.90735464e-05,   9.77124154e-05,\n",
       "         1.07189132e-04,   1.17584955e-04,   1.28989026e-04,\n",
       "         1.41499130e-04,   1.55222536e-04,   1.70276917e-04,\n",
       "         1.86791360e-04,   2.04907469e-04,   2.24780583e-04,\n",
       "         2.46581108e-04,   2.70495973e-04,   2.96730241e-04,\n",
       "         3.25508860e-04,   3.57078596e-04,   3.91710149e-04,\n",
       "         4.29700470e-04,   4.71375313e-04,   5.17092024e-04,\n",
       "         5.67242607e-04,   6.22257084e-04,   6.82607183e-04,\n",
       "         7.48810386e-04,   8.21434358e-04,   9.01101825e-04,\n",
       "         9.88495905e-04,   1.08436597e-03,   1.18953407e-03,\n",
       "         1.30490198e-03,   1.43145894e-03,   1.57029012e-03,\n",
       "         1.72258597e-03,   1.88965234e-03,   2.07292178e-03,\n",
       "         2.27396575e-03,   2.49450814e-03,   2.73644000e-03,\n",
       "         3.00183581e-03,   3.29297126e-03,   3.61234270e-03,\n",
       "         3.96268864e-03,   4.34701316e-03,   4.76861170e-03,\n",
       "         5.23109931e-03,   5.73844165e-03,   6.29498899e-03,\n",
       "         6.90551352e-03,   7.57525026e-03,   8.30994195e-03,\n",
       "         9.11588830e-03,   1.00000000e-02])"
      ]
     },
     "execution_count": 22,
     "metadata": {},
     "output_type": "execute_result"
    }
   ],
   "source": [
    "np.logspace(-10, -2, 200)"
   ]
  }
 ],
 "metadata": {
  "kernelspec": {
   "display_name": "Python 2",
   "language": "python",
   "name": "python2"
  },
  "language_info": {
   "codemirror_mode": {
    "name": "ipython",
    "version": 2
   },
   "file_extension": ".py",
   "mimetype": "text/x-python",
   "name": "python",
   "nbconvert_exporter": "python",
   "pygments_lexer": "ipython2",
   "version": "2.7.10"
  }
 },
 "nbformat": 4,
 "nbformat_minor": 0
}
